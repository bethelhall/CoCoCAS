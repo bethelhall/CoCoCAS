{
 "cells": [
  {
   "cell_type": "code",
   "execution_count": 7,
   "metadata": {},
   "outputs": [],
   "source": [
    "import numpy as np\n",
    "import tensorflow as tf\n",
    "import matplotlib.pyplot as plt\n",
    "from tensorflow.keras.layers import GaussianNoise\n",
    "%matplotlib inline"
   ]
  },
  {
   "cell_type": "code",
   "execution_count": 71,
   "metadata": {},
   "outputs": [],
   "source": [
    "#define data generator\n",
    "min_x = -1\n",
    "max_x = 1\n",
    "mu=0.0 # mean of the Gaussian distribution\n",
    "stdv=0.2 # standard deviation\n",
    "\n",
    "def data_generator(size):\n",
    "    X = np.linspace(-1,1,size, endpoint=True)\n",
    "    GAUSSIAN_NOISE = np.random.normal(mu, stdv, size)\n",
    "    Y = X + GAUSSIAN_NOISE\n",
    "    return X, Y"
   ]
  },
  {
   "cell_type": "code",
   "execution_count": 72,
   "metadata": {},
   "outputs": [
    {
     "data": {
      "image/png": "[encoded data removed]",
      "text/plain": [
       "<Figure size 432x288 with 1 Axes>"
      ]
     },
     "metadata": {
      "needs_background": "light"
     },
     "output_type": "display_data"
    }
   ],
   "source": [
    "#Use different data size for both training dataset and testing dataset\n",
    "x_train, y_train = data_generator(50)\n",
    "plt.plot(x_train,y_train, color='black')\n",
    "plt.title('Data', color ='black')\n",
    "plt.xlabel('Input features', color = 'black')\n",
    "plt.ylabel('Ground truth values', color = 'black')\n",
    "plt.show() "
   ]
  },
  {
   "cell_type": "code",
   "execution_count": 73,
   "metadata": {},
   "outputs": [],
   "source": [
    "x_train = tf.reshape(x_train,[1,-1])"
   ]
  },
  {
   "cell_type": "code",
   "execution_count": 74,
   "metadata": {},
   "outputs": [
    {
     "data": {
      "text/plain": [
       "TensorShape([1, 50])"
      ]
     },
     "execution_count": 74,
     "metadata": {},
     "output_type": "execute_result"
    }
   ],
   "source": [
    "y_train = tf.reshape(y_train,[1,-1])\n",
    "y_train.shape"
   ]
  },
  {
   "cell_type": "code",
   "execution_count": 75,
   "metadata": {
    "pycharm": {
     "is_executing": true,
     "name": "#%%\n"
    }
   },
   "outputs": [
    {
     "name": "stdout",
     "output_type": "stream",
     "text": [
      "Model: \"sequential_7\"\n",
      "_________________________________________________________________\n",
      "Layer (type)                 Output Shape              Param #   \n",
      "=================================================================\n",
      "dense_14 (Dense)             (None, 2)                 102       \n",
      "_________________________________________________________________\n",
      "dense_15 (Dense)             (None, 50)                150       \n",
      "=================================================================\n",
      "Total params: 252\n",
      "Trainable params: 252\n",
      "Non-trainable params: 0\n",
      "_________________________________________________________________\n"
     ]
    }
   ],
   "source": [
    "from tensorflow.keras.layers import Dense\n",
    "from tensorflow.keras.optimizers import RMSprop\n",
    "from tensorflow.keras.models import Sequential\n",
    "import tensorflow as tf\n",
    "import numpy as np\n",
    "\n",
    "def custom_loss():\n",
    "    def conditional_loss(y_true, y_pred):\n",
    "        loss = tf.keras.losses.mean_squared_error(y_pred, y_true)\n",
    "#         loss = tf.where(tf.greater(y_pred,0),loss  * y_pred, loss)\n",
    "        return loss\n",
    "    return conditional_loss\n",
    "\n",
    "loss = custom_loss()\n",
    "\n",
    "n_outputs = y_train.shape[1]\n",
    "\n",
    "model = Sequential([\n",
    "    tf.keras.layers.Input(shape = (n_outputs,)),\n",
    "    tf.keras.layers.Dense(2, activation = tf.nn.relu),\n",
    "    tf.keras.layers.Dense(n_outputs)\n",
    "])\n",
    "\n",
    "opt = RMSprop(0.001)\n",
    "\n",
    "model.compile(\n",
    "    loss=loss,\n",
    "    optimizer=opt,\n",
    "    metrics=['mae']\n",
    ")\n",
    "model.summary()"
   ]
  },
  {
   "cell_type": "code",
   "execution_count": 76,
   "metadata": {
    "pycharm": {
     "is_executing": true,
     "name": "#%%\n"
    }
   },
   "outputs": [
    {
     "name": "stdout",
     "output_type": "stream",
     "text": [
      "Train on 1 samples\n",
      "Epoch 1/100\n",
      "1/1 [==============================] - 1s 581ms/sample - loss: 0.4436 - mae: 0.5765\n",
      "Epoch 2/100\n",
      "1/1 [==============================] - 0s 3ms/sample - loss: 0.4399 - mae: 0.5733\n",
      "Epoch 3/100\n",
      "1/1 [==============================] - 0s 2ms/sample - loss: 0.4373 - mae: 0.5710\n",
      "Epoch 4/100\n",
      "1/1 [==============================] - 0s 2ms/sample - loss: 0.4351 - mae: 0.5691\n",
      "Epoch 5/100\n",
      "1/1 [==============================] - 0s 3ms/sample - loss: 0.4332 - mae: 0.5674\n",
      "Epoch 6/100\n",
      "1/1 [==============================] - 0s 3ms/sample - loss: 0.4314 - mae: 0.5659\n",
      "Epoch 7/100\n",
      "1/1 [==============================] - 0s 3ms/sample - loss: 0.4298 - mae: 0.5644\n",
      "Epoch 8/100\n",
      "1/1 [==============================] - 0s 3ms/sample - loss: 0.4282 - mae: 0.5631\n",
      "Epoch 9/100\n",
      "1/1 [==============================] - 0s 4ms/sample - loss: 0.4268 - mae: 0.5618\n",
      "Epoch 10/100\n",
      "1/1 [==============================] - 0s 4ms/sample - loss: 0.4253 - mae: 0.5605\n",
      "Epoch 11/100\n",
      "1/1 [==============================] - 0s 4ms/sample - loss: 0.4240 - mae: 0.5593\n",
      "Epoch 12/100\n",
      "1/1 [==============================] - 0s 3ms/sample - loss: 0.4226 - mae: 0.5581\n",
      "Epoch 13/100\n",
      "1/1 [==============================] - 0s 2ms/sample - loss: 0.4213 - mae: 0.5569\n",
      "Epoch 14/100\n",
      "1/1 [==============================] - 0s 3ms/sample - loss: 0.4201 - mae: 0.5558\n",
      "Epoch 15/100\n",
      "1/1 [==============================] - 0s 4ms/sample - loss: 0.4188 - mae: 0.5547\n",
      "Epoch 16/100\n",
      "1/1 [==============================] - 0s 3ms/sample - loss: 0.4176 - mae: 0.5536\n",
      "Epoch 17/100\n",
      "1/1 [==============================] - 0s 3ms/sample - loss: 0.4164 - mae: 0.5525\n",
      "Epoch 18/100\n",
      "1/1 [==============================] - 0s 3ms/sample - loss: 0.4152 - mae: 0.5514\n",
      "Epoch 19/100\n",
      "1/1 [==============================] - 0s 4ms/sample - loss: 0.4140 - mae: 0.5504\n",
      "Epoch 20/100\n",
      "1/1 [==============================] - 0s 3ms/sample - loss: 0.4128 - mae: 0.5493\n",
      "Epoch 21/100\n",
      "1/1 [==============================] - 0s 3ms/sample - loss: 0.4117 - mae: 0.5483\n",
      "Epoch 22/100\n",
      "1/1 [==============================] - 0s 2ms/sample - loss: 0.4105 - mae: 0.5473\n",
      "Epoch 23/100\n",
      "1/1 [==============================] - 0s 3ms/sample - loss: 0.4094 - mae: 0.5462\n",
      "Epoch 24/100\n",
      "1/1 [==============================] - 0s 3ms/sample - loss: 0.4083 - mae: 0.5452\n",
      "Epoch 25/100\n",
      "1/1 [==============================] - 0s 3ms/sample - loss: 0.4071 - mae: 0.5442\n",
      "Epoch 26/100\n",
      "1/1 [==============================] - 0s 3ms/sample - loss: 0.4060 - mae: 0.5432\n",
      "Epoch 27/100\n",
      "1/1 [==============================] - 0s 3ms/sample - loss: 0.4049 - mae: 0.5422\n",
      "Epoch 28/100\n",
      "1/1 [==============================] - 0s 4ms/sample - loss: 0.4038 - mae: 0.5412\n",
      "Epoch 29/100\n",
      "1/1 [==============================] - 0s 3ms/sample - loss: 0.4027 - mae: 0.5402\n",
      "Epoch 30/100\n",
      "1/1 [==============================] - 0s 3ms/sample - loss: 0.4016 - mae: 0.5392\n",
      "Epoch 31/100\n",
      "1/1 [==============================] - 0s 2ms/sample - loss: 0.4005 - mae: 0.5382\n",
      "Epoch 32/100\n",
      "1/1 [==============================] - 0s 2ms/sample - loss: 0.3995 - mae: 0.5372\n",
      "Epoch 33/100\n",
      "1/1 [==============================] - 0s 4ms/sample - loss: 0.3984 - mae: 0.5362\n",
      "Epoch 34/100\n",
      "1/1 [==============================] - 0s 4ms/sample - loss: 0.3973 - mae: 0.5352\n",
      "Epoch 35/100\n",
      "1/1 [==============================] - 0s 3ms/sample - loss: 0.3962 - mae: 0.5342\n",
      "Epoch 36/100\n",
      "1/1 [==============================] - 0s 3ms/sample - loss: 0.3952 - mae: 0.5332\n",
      "Epoch 37/100\n",
      "1/1 [==============================] - 0s 3ms/sample - loss: 0.3941 - mae: 0.5323\n",
      "Epoch 38/100\n",
      "1/1 [==============================] - 0s 3ms/sample - loss: 0.3931 - mae: 0.5313\n",
      "Epoch 39/100\n",
      "1/1 [==============================] - 0s 3ms/sample - loss: 0.3920 - mae: 0.5303\n",
      "Epoch 40/100\n",
      "1/1 [==============================] - 0s 3ms/sample - loss: 0.3910 - mae: 0.5293\n",
      "Epoch 41/100\n",
      "1/1 [==============================] - 0s 3ms/sample - loss: 0.3899 - mae: 0.5284\n",
      "Epoch 42/100\n",
      "1/1 [==============================] - 0s 3ms/sample - loss: 0.3889 - mae: 0.5274\n",
      "Epoch 43/100\n",
      "1/1 [==============================] - 0s 3ms/sample - loss: 0.3878 - mae: 0.5264\n",
      "Epoch 44/100\n",
      "1/1 [==============================] - 0s 3ms/sample - loss: 0.3868 - mae: 0.5254\n",
      "Epoch 45/100\n",
      "1/1 [==============================] - 0s 3ms/sample - loss: 0.3857 - mae: 0.5245\n",
      "Epoch 46/100\n",
      "1/1 [==============================] - 0s 3ms/sample - loss: 0.3847 - mae: 0.5235\n",
      "Epoch 47/100\n",
      "1/1 [==============================] - 0s 4ms/sample - loss: 0.3837 - mae: 0.5225\n",
      "Epoch 48/100\n",
      "1/1 [==============================] - 0s 3ms/sample - loss: 0.3826 - mae: 0.5215\n",
      "Epoch 49/100\n",
      "1/1 [==============================] - 0s 3ms/sample - loss: 0.3816 - mae: 0.5206\n",
      "Epoch 50/100\n",
      "1/1 [==============================] - 0s 3ms/sample - loss: 0.3806 - mae: 0.5196\n",
      "Epoch 51/100\n",
      "1/1 [==============================] - 0s 4ms/sample - loss: 0.3796 - mae: 0.5186\n",
      "Epoch 52/100\n",
      "1/1 [==============================] - 0s 3ms/sample - loss: 0.3785 - mae: 0.5177\n",
      "Epoch 53/100\n",
      "1/1 [==============================] - 0s 3ms/sample - loss: 0.3775 - mae: 0.5167\n",
      "Epoch 54/100\n",
      "1/1 [==============================] - 0s 3ms/sample - loss: 0.3765 - mae: 0.5157\n",
      "Epoch 55/100\n",
      "1/1 [==============================] - 0s 3ms/sample - loss: 0.3755 - mae: 0.5148\n",
      "Epoch 56/100\n",
      "1/1 [==============================] - 0s 4ms/sample - loss: 0.3745 - mae: 0.5138\n",
      "Epoch 57/100\n",
      "1/1 [==============================] - 0s 3ms/sample - loss: 0.3735 - mae: 0.5129\n",
      "Epoch 58/100\n",
      "1/1 [==============================] - 0s 3ms/sample - loss: 0.3725 - mae: 0.5119\n",
      "Epoch 59/100\n",
      "1/1 [==============================] - 0s 5ms/sample - loss: 0.3714 - mae: 0.5109\n",
      "Epoch 60/100\n",
      "1/1 [==============================] - 0s 4ms/sample - loss: 0.3704 - mae: 0.5100\n",
      "Epoch 61/100\n",
      "1/1 [==============================] - 0s 4ms/sample - loss: 0.3694 - mae: 0.5090\n",
      "Epoch 62/100\n",
      "1/1 [==============================] - 0s 4ms/sample - loss: 0.3684 - mae: 0.5080\n",
      "Epoch 63/100\n",
      "1/1 [==============================] - 0s 3ms/sample - loss: 0.3674 - mae: 0.5071\n",
      "Epoch 64/100\n",
      "1/1 [==============================] - 0s 3ms/sample - loss: 0.3664 - mae: 0.5061\n",
      "Epoch 65/100\n",
      "1/1 [==============================] - 0s 3ms/sample - loss: 0.3654 - mae: 0.5052\n",
      "Epoch 66/100\n",
      "1/1 [==============================] - 0s 4ms/sample - loss: 0.3645 - mae: 0.5042\n",
      "Epoch 67/100\n",
      "1/1 [==============================] - 0s 3ms/sample - loss: 0.3635 - mae: 0.5032\n",
      "Epoch 68/100\n",
      "1/1 [==============================] - 0s 3ms/sample - loss: 0.3625 - mae: 0.5023\n",
      "Epoch 69/100\n",
      "1/1 [==============================] - 0s 3ms/sample - loss: 0.3615 - mae: 0.5013\n",
      "Epoch 70/100\n",
      "1/1 [==============================] - 0s 4ms/sample - loss: 0.3605 - mae: 0.5004\n",
      "Epoch 71/100\n",
      "1/1 [==============================] - 0s 3ms/sample - loss: 0.3595 - mae: 0.4994\n",
      "Epoch 72/100\n",
      "1/1 [==============================] - 0s 3ms/sample - loss: 0.3585 - mae: 0.4985\n",
      "Epoch 73/100\n",
      "1/1 [==============================] - 0s 3ms/sample - loss: 0.3576 - mae: 0.4975\n",
      "Epoch 74/100\n",
      "1/1 [==============================] - 0s 4ms/sample - loss: 0.3566 - mae: 0.4966\n",
      "Epoch 75/100\n",
      "1/1 [==============================] - 0s 4ms/sample - loss: 0.3556 - mae: 0.4956\n",
      "Epoch 76/100\n",
      "1/1 [==============================] - 0s 3ms/sample - loss: 0.3546 - mae: 0.4947\n",
      "Epoch 77/100\n",
      "1/1 [==============================] - 0s 3ms/sample - loss: 0.3537 - mae: 0.4937\n",
      "Epoch 78/100\n",
      "1/1 [==============================] - 0s 4ms/sample - loss: 0.3527 - mae: 0.4928\n",
      "Epoch 79/100\n",
      "1/1 [==============================] - 0s 3ms/sample - loss: 0.3517 - mae: 0.4918\n",
      "Epoch 80/100\n",
      "1/1 [==============================] - 0s 2ms/sample - loss: 0.3508 - mae: 0.4909\n",
      "Epoch 81/100\n",
      "1/1 [==============================] - 0s 3ms/sample - loss: 0.3498 - mae: 0.4899\n",
      "Epoch 82/100\n",
      "1/1 [==============================] - 0s 4ms/sample - loss: 0.3488 - mae: 0.4890\n",
      "Epoch 83/100\n",
      "1/1 [==============================] - 0s 5ms/sample - loss: 0.3479 - mae: 0.4880\n",
      "Epoch 84/100\n",
      "1/1 [==============================] - 0s 3ms/sample - loss: 0.3469 - mae: 0.4871\n",
      "Epoch 85/100\n",
      "1/1 [==============================] - 0s 2ms/sample - loss: 0.3460 - mae: 0.4861\n",
      "Epoch 86/100\n",
      "1/1 [==============================] - 0s 4ms/sample - loss: 0.3450 - mae: 0.4852\n",
      "Epoch 87/100\n"
     ]
    },
    {
     "name": "stdout",
     "output_type": "stream",
     "text": [
      "1/1 [==============================] - 0s 4ms/sample - loss: 0.3440 - mae: 0.4842\n",
      "Epoch 88/100\n",
      "1/1 [==============================] - 0s 3ms/sample - loss: 0.3431 - mae: 0.4833\n",
      "Epoch 89/100\n",
      "1/1 [==============================] - 0s 3ms/sample - loss: 0.3421 - mae: 0.4824\n",
      "Epoch 90/100\n",
      "1/1 [==============================] - 0s 4ms/sample - loss: 0.3412 - mae: 0.4814\n",
      "Epoch 91/100\n",
      "1/1 [==============================] - 0s 3ms/sample - loss: 0.3403 - mae: 0.4805\n",
      "Epoch 92/100\n",
      "1/1 [==============================] - 0s 4ms/sample - loss: 0.3393 - mae: 0.4795\n",
      "Epoch 93/100\n",
      "1/1 [==============================] - 0s 3ms/sample - loss: 0.3384 - mae: 0.4786\n",
      "Epoch 94/100\n",
      "1/1 [==============================] - 0s 3ms/sample - loss: 0.3374 - mae: 0.4777\n",
      "Epoch 95/100\n",
      "1/1 [==============================] - 0s 3ms/sample - loss: 0.3365 - mae: 0.4767\n",
      "Epoch 96/100\n",
      "1/1 [==============================] - 0s 3ms/sample - loss: 0.3356 - mae: 0.4758\n",
      "Epoch 97/100\n",
      "1/1 [==============================] - 0s 3ms/sample - loss: 0.3346 - mae: 0.4749\n",
      "Epoch 98/100\n",
      "1/1 [==============================] - 0s 5ms/sample - loss: 0.3337 - mae: 0.4739\n",
      "Epoch 99/100\n",
      "1/1 [==============================] - 0s 5ms/sample - loss: 0.3328 - mae: 0.4730\n",
      "Epoch 100/100\n",
      "1/1 [==============================] - 0s 3ms/sample - loss: 0.3318 - mae: 0.4721\n"
     ]
    },
    {
     "data": {
      "text/plain": [
       "<tensorflow.python.keras.callbacks.History at 0x7fbabb9e2190>"
      ]
     },
     "execution_count": 76,
     "metadata": {},
     "output_type": "execute_result"
    }
   ],
   "source": [
    "model.fit(x_train, y_train, epochs=100)"
   ]
  },
  {
   "cell_type": "code",
   "execution_count": 84,
   "metadata": {},
   "outputs": [
    {
     "data": {
      "text/plain": [
       "TensorShape([1, 50])"
      ]
     },
     "execution_count": 84,
     "metadata": {},
     "output_type": "execute_result"
    }
   ],
   "source": [
    "pred = model.predict(x_train)\n",
    "pred = tf.reshape(pred,[1,-1])\n",
    "pred.shape"
   ]
  },
  {
   "cell_type": "code",
   "execution_count": 83,
   "metadata": {},
   "outputs": [
    {
     "data": {
      "image/png": "[encoded data removed]",
      "text/plain": [
       "<Figure size 432x288 with 1 Axes>"
      ]
     },
     "metadata": {
      "needs_background": "light"
     },
     "output_type": "display_data"
    }
   ],
   "source": [
    "plt.scatter(x_train, model.predict(x_train), color = 'red')\n",
    "plt.plot(x_train, y_train, color = 'green')\n",
    "plt.xlabel('Input features', color = 'black')\n",
    "plt.ylabel('Predictions', color = 'black')\n",
    "plt.show()"
   ]
  },
  {
   "cell_type": "code",
   "execution_count": null,
   "metadata": {},
   "outputs": [],
   "source": []
  },
  {
   "cell_type": "code",
   "execution_count": null,
   "metadata": {},
   "outputs": [],
   "source": []
  }
 ],
 "metadata": {
  "kernelspec": {
   "display_name": "Python 3 (ipykernel)",
   "language": "python",
   "name": "python3"
  },
  "language_info": {
   "codemirror_mode": {
    "name": "ipython",
    "version": 3
   },
   "file_extension": ".py",
   "mimetype": "text/x-python",
   "name": "python",
   "nbconvert_exporter": "python",
   "pygments_lexer": "ipython3",
   "version": "3.7.11"
  }
 },
 "nbformat": 4,
 "nbformat_minor": 1
}