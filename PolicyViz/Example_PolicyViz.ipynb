{
 "cells": [
  {
   "cell_type": "code",
   "execution_count": null,
<<<<<<< HEAD
   "metadata": {},
=======
>>>>>>> 7fd28ff91bdff3a01ff175dc4b705c2df3bb5028
   "outputs": [],
   "source": [
    "# include necessary packages\n",
    "include(\"./PolicyViz.jl\")\n",
    "using PolicyViz2\n",
    "using HDF5"
<<<<<<< HEAD
   ]
=======
   ],
   "metadata": {
    "collapsed": false,
    "pycharm": {
     "name": "#%%\n"
    }
   }
>>>>>>> 7fd28ff91bdff3a01ff175dc4b705c2df3bb5028
  },
  {
   "cell_type": "markdown",
   "metadata": {},
   "source": [
    "## Visualize Regressed VerticalCAS Policies\n",
    "#### Inputs: \n",
    "* **network_folder** - Optional, path to the folder containing the .nnet files you want to visualize.\n",
    "* **trainingData_folder** - Optional, path to training data folder, so you can visualize the original table policies too. At least one of network_folder or trainingData_folder should be defined\n",
    "* **vnum** - Optional, default is 4. Version number of neural networks\n",
    "* **hu** - Optional, default is 45. Number of hidden units in network\n",
    "* **epoch** - Optional, default is 200. Number of epochs used to train network\n",
    "\n",
    "#### Outputs: Interactive Plots\n",
    "\n",
    "##### Interactive Settings:\n",
    "* **nbin**: The number of bins being plotted. Higher nbin means better resolution, but that takes longer to compute\n",
    "* **savePlot**: This option and the remaining options are used to format and generate .tex files of the plots. Set to true if you want to save the plot, but as a result the plots shown here will no longer continue to update. The switch can be toggled to true whenever you have a plot you want to save.\n",
    "* **xmin**: Minimum of x-axis\n",
    "* **xmax**: Maximum of x-axis\n",
    "* **ymin**: Minimum of y-axis\n",
    "* **ymax**: Maximum of y-axis\n",
    "* **dh0**: Ownship vertical rate (ft/s)\n",
    "* **dh1**: Intruder vertical rate (ft/s)\n",
    "* **pra**: Previous RA"
   ]
  },
  {
   "cell_type": "code",
   "execution_count": null,
   "metadata": {
    "scrolled": false
   },
   "outputs": [],
   "source": [
    "network_folder =  \"../networks\"\n",
    "trainingData_folder = \"../TrainingData/\"\n",
    "vnum = 4\n",
    "hu = 45\n",
    "epoch =  200\n",
    "viz_policy(network_folder,trainingData_folder,vnum,hu,epoch)"
   ]
  },
  {
   "cell_type": "code",
   "execution_count": null,
   "metadata": {},
   "outputs": [],
   "source": []
  }
 ],
 "metadata": {
  "kernelspec": {
<<<<<<< HEAD
   "display_name": "Julia 0.6.0",
   "language": "julia",
   "name": "julia-0.6"
=======
   "name": "python3",
   "language": "python",
   "display_name": "Python 3"
>>>>>>> 7fd28ff91bdff3a01ff175dc4b705c2df3bb5028
  },
  "language_info": {
   "file_extension": ".jl",
   "mimetype": "application/julia",
   "name": "julia",
   "version": "0.6.0"
  },
  "widgets": {
   "state": {
    "13a9afde-6c0d-4855-b1ad-e7d56d92826b": {
     "views": [
      {
       "cell_index": 3
      }
     ]
    },
    "17ea7b51-dbfe-49df-8eda-c5259c5a841a": {
     "views": [
      {
       "cell_index": 3
      }
     ]
    },
    "2c968cdc-2c19-43a3-a497-5b410004624b": {
     "views": [
      {
       "cell_index": 3
      }
     ]
    },
    "77e925a0-5aae-4177-b7b2-4623d8469a8a": {
     "views": [
      {
       "cell_index": 3
      }
     ]
    },
    "916fc52d-a5e8-44b9-9d3f-61380872e4d6": {
     "views": [
      {
       "cell_index": 3
      }
     ]
    },
    "9e45b8d8-3c73-432e-ad10-853d870fe4ca": {
     "views": [
      {
       "cell_index": 3
      }
     ]
    },
    "a161c1f5-ac0b-40d9-986e-186ec02cab98": {
     "views": [
      {
       "cell_index": 3
      }
     ]
    },
    "ba2438de-2d56-49c1-90a9-aa349c612393": {
     "views": [
      {
       "cell_index": 3
      }
     ]
    },
    "c1317d5e-2ed8-4d7b-bb60-6eacc1bab986": {
     "views": [
      {
       "cell_index": 3
      }
     ]
    },
    "d27e6b74-e176-4419-9bd9-8bdacaaa8431": {
     "views": [
      {
       "cell_index": 3
      }
     ]
    },
    "d94f1767-8ba2-4c0a-8d1b-f4970c328823": {
     "views": [
      {
       "cell_index": 3
      }
     ]
    },
    "f8ede400-8d84-4a58-a4f9-68ec4e131ced": {
     "views": [
      {
       "cell_index": 3
      }
     ]
    }
   },
   "version": "1.2.0"
  }
 },
 "nbformat": 4,
 "nbformat_minor": 1
<<<<<<< HEAD
}
=======
}
>>>>>>> 7fd28ff91bdff3a01ff175dc4b705c2df3bb5028
